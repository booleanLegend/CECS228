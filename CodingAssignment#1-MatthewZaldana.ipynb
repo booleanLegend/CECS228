{
 "cells": [
  {
   "cell_type": "markdown",
   "metadata": {},
   "source": [
    "# CECS 228: Coding Assignment #1\n",
    "\n",
    "### Submission Instructions:\n",
    "\n",
    "Attach your coded solution to the programming tasks below. When you are finished...\n",
    "\n",
    "1. Rename this file so that your actual name replaces \"YOUR NAME\" in the current notebook name, and submit it to the dropbox by **Sunday 9/20 @ 11 AM**. For example, I would submit to the dropbox a file called  `CECS 229 Coded Assignment #1 - KATHERINE VARELA.ipynb`\n",
    "2. Submit **your code only to CodePost as `hw1.py` by Sunday 9/20 @ 11:59 PM**\n",
    "\n"
   ]
  },
  {
   "cell_type": "markdown",
   "metadata": {},
   "source": [
    "## Problem 1:\n",
    "\n",
    "Create the following three functions: \n",
    "\n",
    "1. `propOR(p_truthval, q_truthval)` - returns the truth value of $p \\lor q$\n",
    "    \n",
    "   INPUT: \n",
    "    * `p_truthval` - a boolean (i.e. True or False) describing the truth value of p\n",
    "    * `q_truthval` - a boolean (i.e. True or False) describing the truth value of q\n",
    "   \n",
    "   OUTPUT:\n",
    "    * boolean `True` or `False` \n",
    "   \n",
    "2. `propXOR(p_truthval, q_truthval)` - returns the truth value of $p \\oplus q$\n",
    "    \n",
    "   INPUT: \n",
    "    * `p_truthval` - a boolean (i.e. True or False) describing the truth value of p\n",
    "    * `q_truthval` - a boolean (i.e. True or False) describing the truth value of q\n",
    "    \n",
    "   OUTPUT:\n",
    "    * boolean `True` or `False`\n",
    "    \n",
    "3. `propAND(p_truthval, q_truthval)` - returns the truth value of $p \\land q$\n",
    "    \n",
    "   INPUT: \n",
    "    * `p_truthval` - a boolean (i.e. True or False) describing the truth value of p\n",
    "    * `q_truthval` - a boolean (i.e. True or False) describing the truth value of q\n",
    "    \n",
    "   OUTPUT:\n",
    "    * boolean `True` or `False`\n",
    "    \n",
    "    \n",
    "\n",
    " \n",
    "**Sample Output** \n",
    "\n",
    "`>> propOR(True, False)`\n",
    "\n",
    "`True`\n",
    "\n",
    "`>> propXOR(True, False)`\n",
    "\n",
    "`True`\n",
    "\n",
    "`>> propAND(True, False)`\n",
    "\n",
    "`False`\n"
   ]
  },
  {
   "cell_type": "code",
   "execution_count": null,
   "metadata": {
    "collapsed": true
   },
   "outputs": [],
   "source": [
    "def propOR(p, q):\n",
    "    #FIXME: IMPLEMENT THIS METHOD\n",
    "    pass"
   ]
  },
  {
   "cell_type": "code",
   "execution_count": null,
   "metadata": {
    "collapsed": true
   },
   "outputs": [],
   "source": [
    "def propXOR(p, q):\n",
    "    #FIXME: IMPLEMENT THIS METHOD\n",
    "    pass"
   ]
  },
  {
   "cell_type": "code",
   "execution_count": 1,
   "metadata": {
    "collapsed": true
   },
   "outputs": [],
   "source": [
    "def propAND(p, q):\n",
    "    #FIXME: IMPLEMENT THIS METHOD\n",
    "    pass"
   ]
  },
  {
   "cell_type": "markdown",
   "metadata": {},
   "source": [
    "## Problem 2:\n",
    "\n",
    "**Background**\n",
    "\n",
    "A bit is a symbol that can only attain one of two values: 0 or 1.  Bits are often used in logic in the place of the usual truth values, where 1 is used for TRUE and 0 for false.  In such a case, \n",
    "\n",
    "| $p$ \t| $q$ \t| $p \\lor q$ \t| $p \\land q$ \t| $p \\oplus q$ \t|\n",
    "|:---:\t|:---:\t|:----------:\t|:-----------:\t|------------:\t|\n",
    "|  1  \t|  1  \t|      1     \t|      1      \t|       0      \t|\n",
    "|  1  \t|  0  \t|      1     \t|      0      \t|       1      \t|\n",
    "|  0  \t|  1  \t|      1     \t|      0      \t|       1      \t|\n",
    "|  0  \t|  0  \t|      0     \t|      0      \t|       0      \t|\n",
    "\n",
    "\n",
    "Information is often represented using bitstrings, which are strings consisting of 0's and 1's.  We make the following definitions for two bitstrings of the same length:  Consider the bit strings $P = p_{n-1} \\cdots p_1 p_0$ and $Q = q_{n-1} \\cdots q_1 q_0$, where $p_i$ and $q_i$ for $i = 0, 1, \\dots n-1$ are bits.  Then,  and Q = \n",
    "\n",
    "\n",
    "\n",
    "\n",
    "\n",
    "|                Operation        | Rule                  ||E.g.  $P$   \t    |  E.g. $Q$ \t| Result |\n",
    "|---\t                          |---\t                  |---|---\t            |---\t        |---               | \n",
    "| <font color = blue> bitwise OR  | apply $p_i \\lor q_i$  | for $i = 0$ to $ n-1$ |01010111\t    | 00111000      |  01111111 \t   | \n",
    "| <font color = green> bitwise XOR  | apply $p_i \\oplus q_i$  | for $i = 0$ to $ n-1$ |01010111\t    | 00111000      |  01101111 \t   | \n",
    "| <font color = red>  bitwise AND | apply $p_i \\land q_i$ |for $i = 0 $ to $ n-1$| 01010111\t    | 00111000      |  00010000\t       | \n",
    "\n",
    "\n",
    "\n",
    "**Directions**\n",
    "\n",
    "Create three functions that compute bitwise operations on two bitstrings `P` and `Q`.  If the string lengths are not the same, then pad the shorter string with enough 0's at the beginning of the string so that `P` and `Q` have the same length. \n",
    "\n",
    "E.g. If `P = \"1110\"` and `Q = \"11 0101\", then pad `P` with two 0's so that `P = \"00 1110\"'.  Make sure to strip off any whitespaces the string may contain prior to attempting to apply the bitwise operation:\n",
    "\n",
    "1. `bitwiseOR(P, Q)` returns a bitstring that is the result of applying bitwise OR on bitstrings `P` and `Q`\n",
    "    * INPUT: `P, Q` - Python strings consisting of characters 0 and 1\n",
    "    * OUTPUT: a Python string consisting of characters 0 and 1\n",
    "\n",
    "2. `bitwiseXOR(P, Q)` returns a bitstring that is the result of applying bitwise XOR on bitstrings `P` and `Q`\n",
    "    * INPUT: `P, Q` - Python strings consisting of characters 0 and 1\n",
    "    * OUTPUT: a Python string consisting of characters 0 and 1\n",
    "    \n",
    "3. `bitwiseAND(P, Q)` returns a bitstring that is the result of applying bitwise AND on bitstrings `P` and `Q`\n",
    "    * INPUT: `P, Q` - Python strings consisting of characters 0 and 1\n",
    "    * OUTPUT: a Python string consisting of characters 0 and 1\n",
    "\n",
    "\n",
    "**Sample Output:**  \n",
    " \n",
    "`>> bitwiseOR(\"0101 0111\", \"11 1000 \")` \n",
    "\n",
    "`01111111`\n",
    "\n",
    "`>> bitwiseXOR(\"0101 0111\", \"11 1000 \")` \n",
    "\n",
    "`01101111`\n",
    "\n",
    "`>> bitwiseAND(\"0101 0111\", \"11 1000 \")` \n",
    "\n",
    "`00010000`\n",
    "\n",
    "\n",
    "\n"
   ]
  },
  {
   "cell_type": "code",
   "execution_count": null,
   "metadata": {
    "collapsed": true
   },
   "outputs": [],
   "source": [
    "def bitwiseOR(P, Q):\n",
    "    #FIXME: IMPLEMENT THIS METHOD."
   ]
  },
  {
   "cell_type": "code",
   "execution_count": null,
   "metadata": {
    "collapsed": true
   },
   "outputs": [],
   "source": [
    "def bitwiseXOR(P, Q):\n",
    "    #FIXME: IMPLEMENT THIS METHOD."
   ]
  },
  {
   "cell_type": "code",
   "execution_count": null,
   "metadata": {
    "collapsed": true
   },
   "outputs": [],
   "source": [
    "def bitwiseAND(P, Q):\n",
    "    #FIXME: IMPLEMENT THIS METHOD."
   ]
  },
  {
   "cell_type": "markdown",
   "metadata": {},
   "source": [
    "## Problem 3:\n",
    "\n",
    "\n",
    "**Background**\n",
    "\n",
    "A compound proposition is ***satisfiable*** if there is an assignment of the truth values to its variables that makes it true.  \n",
    "\n",
    "For example, \n",
    "* $(p \\lor q \\lor r) \\land (\\neg p \\lor \\neg q \\lor \\neg r)$ is satisfiable because the compound proposition is true if at least one variable is true and one is false (e.g. if $p$ is true and $q$ is false).  \n",
    "\n",
    "* $(p \\lor \\neg q) \\land (q \\lor \\neg r) \\land (r \\lor \\neg p) \\land (p \\lor q \\lor r) \\land (\\neg p \\lor \\neg q \\lor \\neg r)$ is ***unsatisfiable*** because it is false for every combination of truth values for $p, q$, and $r$ (i.e. it is a fallacy).\n",
    "\n",
    "\n",
    "**Directions**\n",
    "\n",
    "Create a function `isSatisfiable(P)` that returns `True` if the compound proposition is satisfiable or `False` otherwise.  The compound proposition `P` will be given as a list of the following possible characters \n",
    "\n",
    "* `(` or `)` - parentheses used for grouping\n",
    "* `v` - propositional OR (lowercase v)\n",
    "* `@` - propositional XOR\n",
    "* `^` - propositional AND\n",
    "* `~` - negation\n",
    "* `p`, `q`, `r`, `s` - propositional variables \n",
    "\n",
    "No other characters will be recognized beyond this.  For example,  $(p \\lor q \\lor r) \\land (\\neg p \\lor \\neg q \\lor \\neg r)$ would be given as the list \n",
    "\n",
    "`['(', 'p', 'v', 'q', 'v' , 'r', ')',  '^', '(', '~', 'p', 'v', '~', 'q', 'v', '~', 'r', ')' ]`\n",
    "\n",
    " INPUT: \n",
    "    * `P` - a list of characters defined above.\n",
    "\n",
    " OUTPUT: True if `P` is satisfiable, `False` otherwise.\n",
    "\n",
    "**Sample Output**:  \n",
    " \n",
    "`>> isSatisfiable(['(', 'p', 'v', 'q', 'v' , 'r', ')',  '^', '(', '~', 'p', 'v', '~', 'q', 'v', '~', 'r', ')' ])` \n",
    "\n",
    "`True`"
   ]
  },
  {
   "cell_type": "code",
   "execution_count": 2,
   "metadata": {
    "collapsed": true
   },
   "outputs": [],
   "source": [
    "def isSatisfiable(P):\n",
    "    #FIXME: IMPLEMENT THIS METHOD\n",
    "    pass"
   ]
  }
 ],
 "metadata": {
  "kernelspec": {
   "display_name": "Python 3",
   "language": "python",
   "name": "python3"
  },
  "language_info": {
   "codemirror_mode": {
    "name": "ipython",
    "version": 3
   },
   "file_extension": ".py",
   "mimetype": "text/x-python",
   "name": "python",
   "nbconvert_exporter": "python",
   "pygments_lexer": "ipython3",
   "version": "3.6.2"
  }
 },
 "nbformat": 4,
 "nbformat_minor": 2
}
