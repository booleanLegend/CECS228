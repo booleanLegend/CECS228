{
 "cells": [
  {
   "cell_type": "markdown",
   "metadata": {},
   "source": [
    "# CECS 228: Lab Assignment #16\n",
    "\n",
    "### Submission Instructions:\n",
    "\n",
    "Attach your coded solution to the programming tasks below. When you are finished...\n",
    "\n",
    "1. Rename this file so that the last names of everyone in your group replaces \"YOUR NAME\" in the current notebook name, and submit it to the dropbox by **Sunday 12/6 @ 11:59 PM**. For example, I would submit to the dropbox a file called  `CECS 228 Coded Assignment #4 - VARELA - DOE.ipynb`\n",
    "\n",
    "2. Submit **your code only to CodePost as `LAB16.py` by Sunday 12/6 @ 11:59 PM**\n",
    "\n"
   ]
  },
  {
   "cell_type": "markdown",
   "metadata": {},
   "source": [
    "## Task\n",
    "\n",
    "Write a function `order(words)` which takes in the *set* of strings `words` and returns a *list* of strings ordered in alphabetical order (lexicographic order).  To do so, you must take the following steps:\n",
    "\n",
    "1. For each word $l_1l_2\\cdots l_n$ in the set, convert each letter $l_i$ into its unicode representation $u_i$ (look into the built-in function `ord()`).\n",
    "2. Create an $n$-tuple for each word using the unicode representations: $l_1l_2\\cdots l_n  \\rightarrow (u_1, u_2, \\dots, u_n)$.\n",
    "3. Compare the $n$-tuples using the lexicographic ordering  $(u_1, u_2, \\dots, u_n) \\preceq (v_1, v_2, \\dots, v_m)$  if at least one of the following is true:\n",
    " * $u_1 < v_1$   \n",
    " \n",
    " OR\n",
    " \n",
    " * $u_i = v_i$ for $i = 1, 2, \\dots, k$ AND  $u_{k+1} < v_{k+1}$  where $k+1 < n, m$\n",
    " \n",
    " OR\n",
    " \n",
    " * $u_i = v_i$ for $i = 1, 2, \\dots n$  AND $n < m$\n",
    "4. Order the tuples according to the comparisons carried out in step 3.\n",
    "5. Convert each tuple back to letters and concatenate to form a word (look into the built-in function `chr()`).\n",
    "6. Store the result in to a list and return the list."
   ]
  },
  {
   "cell_type": "code",
   "execution_count": null,
   "metadata": {
    "collapsed": true
   },
   "outputs": [],
   "source": [
    "def order(words):\n",
    "    \"\"\"\n",
    "    orders the words in the given set in alphabetical order\n",
    "    INPUT: words - set of strings\n",
    "    OUTPUT: list of strings\n",
    "    \"\"\"\n",
    "    #todo\n",
    "    pass"
   ]
  }
 ],
 "metadata": {
  "kernelspec": {
   "display_name": "Python 3",
   "language": "python",
   "name": "python3"
  },
  "language_info": {
   "codemirror_mode": {
    "name": "ipython",
    "version": 3
   },
   "file_extension": ".py",
   "mimetype": "text/x-python",
   "name": "python",
   "nbconvert_exporter": "python",
   "pygments_lexer": "ipython3",
   "version": "3.6.2"
  }
 },
 "nbformat": 4,
 "nbformat_minor": 2
}
