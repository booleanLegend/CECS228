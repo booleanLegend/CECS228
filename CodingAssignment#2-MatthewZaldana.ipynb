{
 "cells": [
  {
   "cell_type": "markdown",
   "metadata": {},
   "source": [
    "# CECS 228: Coding Assignment #2\n",
    "\n",
    "### Submission Instructions:\n",
    "\n",
    "Attach your coded solution to the programming tasks below. When you are finished...\n",
    "\n",
    "1. Rename this file so that your actual name replaces \"YOUR NAME\" in the current notebook name, and submit it to the dropbox by **Sunday 10/18 @ 11:59 PM**. For example, I would submit to the dropbox a file called  `CECS 228 Coded Assignment #2 - KATHERINE VARELA.ipynb`\n",
    "\n",
    "2. Submit **your code only to CodePost as `hw2.py` by Sunday 10/18 @ 11:59 PM**\n",
    "\n"
   ]
  },
  {
   "cell_type": "markdown",
   "metadata": {},
   "source": [
    "## Problem 1:\n",
    "\n",
    "Implement the triangle class as described in the recursion slides presented during Week 6 Lab Session 2.  Remember that the method returning the area must be implemented recursively.  Write a conditional statement in the constructor that raises an error in order to avoid an infinite recursion.\n",
    "\n"
   ]
  },
  {
   "cell_type": "code",
   "execution_count": 12,
   "metadata": {},
   "outputs": [
    {
     "name": "stdout",
     "output_type": "stream",
     "text": [
      "----------------- TEST #1 -----------------\n",
      "[] \n",
      "[] [] \n",
      "[] [] [] \n",
      "[] [] [] [] \n",
      "[] [] [] [] [] \n",
      "\n",
      "The area of the triangle is None\n",
      "Expected area: 15\n",
      "\n",
      "\n",
      "----------------- TEST #2 -----------------\n",
      "\n",
      "\n",
      "The area of the triangle is None\n"
     ]
    }
   ],
   "source": [
    "class Triangle:\n",
    "    \n",
    "    def __init__(self, width):\n",
    "        \"\"\"\n",
    "        constructor initializes a Triangle object with the given width\n",
    "        INPUT: width- the width as a positive integer\n",
    "        \"\"\"\n",
    "        #todo: include code here that raises an exception, in order to avoid infinite recursion     \n",
    "        self.width = width\n",
    "        \n",
    "    def get_area(self):\n",
    "        \"\"\"\n",
    "        gets the area of this triangle\n",
    "        OUTPUT: the area as an int\n",
    "        \"\"\"\n",
    "        #todo: implement this method\n",
    "        pass\n",
    "    \n",
    "    def get_width(self):\n",
    "        \"\"\"gets the width of this triangle\n",
    "        OUTPUT: the width as an int\n",
    "        \"\"\"\n",
    "        return self.width\n",
    "        \n",
    "    def __str__(self):\n",
    "        triangle_str = \"\"\n",
    "        for i in range(1, self.width+1):\n",
    "            triangle_str += i*\"[] \" + \"\\n\"\n",
    "                \n",
    "        return triangle_str\n",
    "    \n",
    "\n",
    "print(\"----------------- TEST #1 -----------------\")\n",
    "tri = Triangle(5)\n",
    "print(tri)\n",
    "print(\"The area of the triangle is\", tri.get_area())\n",
    "\n",
    "w = tri.get_width()\n",
    "expected = int(0.5 * w * (w+1))\n",
    "print(\"Expected area:\",  expected)\n",
    "\n",
    "print(\"\\n\\n----------------- TEST #2 -----------------\")\n",
    "tri2 = Triangle(-6)\n",
    "print(tri2)\n",
    "print(tri2)\n",
    "print(\"The area of the triangle is\", tri.get_area())"
   ]
  },
  {
   "cell_type": "markdown",
   "metadata": {},
   "source": [
    "## Problem 2:\n",
    "\n",
    "Write a recursive function named `linear_search` that searches a list to find a given element.  If the element is in the list, the function returns the index of the first instance of the element, otherwise it returns -1000.\n",
    "    \n",
    "    \n",
    "\n",
    " \n",
    "**Sample Output** \n",
    "\n",
    "`>> linear_search(72, [10, 32, 83, 2, 72, 100, 32])`\n",
    "\n",
    "`4`\n",
    "\n",
    "`>> linear_search(32, [10, 32, 83, 2, 72, 100, 32])`\n",
    "\n",
    "`1`\n",
    "\n",
    "`>> linear_search(0, [10, 32, 83, 2, 72, 100, 32])`\n",
    "\n",
    "`-1000`\n",
    "\n",
    "`>> linear_search('a', ['c', 'a', 'l', 'i', 'f', 'o', 'r', 'n', 'i', 'a'])`\n",
    "\n",
    "`1`\n"
   ]
  },
  {
   "cell_type": "code",
   "execution_count": 3,
   "metadata": {
    "collapsed": true
   },
   "outputs": [],
   "source": [
    "def linear_search(ele, array):\n",
    "    \"\"\"searches the given list for the given element\n",
    "    INPUT:  \n",
    "        * ele - the element\n",
    "        * array - the list\n",
    "    OUTPUT: the index of the first instance of the element in the list, or -1000 if it is not in the list.\n",
    "    \"\"\"\n",
    "    pass"
   ]
  },
  {
   "cell_type": "markdown",
   "metadata": {},
   "source": [
    "## Problem 3:\n",
    "\n",
    "\n",
    "\n",
    "**Part I**\n",
    "\n",
    "Write a recursive function named `merge_sort` that sorts a given list using the recursive algorithm of merge sort.  Implement and use the helper function `_merge`, which merges two sorted arrays.\n",
    "    \n",
    "    \n",
    "\n",
    " \n",
    "**Sample Output** \n",
    "\n",
    "`>> merge_sort([10, 32, 83, 2, 72, 100, 32])`\n",
    "\n",
    "`[2, 10, 32, 32, ]`\n",
    "\n",
    "`>> merge_sort(['a','g','a','t','e'])`\n",
    "\n",
    "`['a','a','g','e', 't']`"
   ]
  },
  {
   "cell_type": "code",
   "execution_count": null,
   "metadata": {
    "collapsed": true
   },
   "outputs": [],
   "source": [
    "def _merge(P, Q):\n",
    "    \"\"\"merges two sorted arrays\n",
    "    INPUT:  \n",
    "        * P, Q - the two sorted arrays\n",
    "    OUTPUT: a sorted list consisting of elements in P and Q\n",
    "    \"\"\"\n",
    "    pass"
   ]
  },
  {
   "cell_type": "code",
   "execution_count": null,
   "metadata": {
    "collapsed": true
   },
   "outputs": [],
   "source": [
    "def merge_sort(array):\n",
    "    \"\"\"sorts a given list\n",
    "    INPUT:  \n",
    "        * array - the list\n",
    "    OUTPUT: a sorted copy of the list.\n",
    "    \"\"\"\n",
    "    pass"
   ]
  },
  {
   "cell_type": "markdown",
   "metadata": {},
   "source": [
    "**Part II**\n",
    "\n",
    "Use a proof by induction to show that the function `merge_sort` will correctly sort any array of size $n$.\n",
    "\n",
    "**Proof**\n",
    "\n",
    "Type your answer here.  Use \\$ \\$ to type LaTeX math expressions, e.g. $p \\land q$\n"
   ]
  }
 ],
 "metadata": {
  "kernelspec": {
   "display_name": "Python 3",
   "language": "python",
   "name": "python3"
  },
  "language_info": {
   "codemirror_mode": {
    "name": "ipython",
    "version": 3
   },
   "file_extension": ".py",
   "mimetype": "text/x-python",
   "name": "python",
   "nbconvert_exporter": "python",
   "pygments_lexer": "ipython3",
   "version": "3.6.2"
  }
 },
 "nbformat": 4,
 "nbformat_minor": 2
}
