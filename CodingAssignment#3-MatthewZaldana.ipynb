{
 "cells": [
  {
   "cell_type": "markdown",
   "metadata": {},
   "source": [
    "# CECS 228: Coding Assignment #3\n",
    "\n",
    "### Submission Instructions:\n",
    "\n",
    "Attach your coded solution to the programming tasks below. When you are finished...\n",
    "\n",
    "1. Rename this file so that your actual name replaces \"YOUR NAME\" in the current notebook name, and submit it to the dropbox by **Sunday 11/22 @ 11:59 PM**. For example, I would submit to the dropbox a file called  `CECS 228 Coded Assignment #3 - KATHERINE VARELA.ipynb`\n",
    "\n",
    "2. Submit **your code only to CodePost as `hw3.py` by Sunday 11/22 @ 11:59 PM**\n",
    "\n"
   ]
  },
  {
   "cell_type": "markdown",
   "metadata": {},
   "source": [
    "## Problem 1:\n",
    "\n",
    "Use **bitstrings** to complete the implementation of the following functions:\n",
    "\n"
   ]
  },
  {
   "cell_type": "code",
   "execution_count": 7,
   "metadata": {
    "collapsed": true
   },
   "outputs": [],
   "source": [
    "def complement(A, U):\n",
    "    \"\"\"\n",
    "    returns the complement of set A, given the universal set U\n",
    "    raises ValueError if A is not a subset of U\n",
    "    INPUT: \n",
    "            - A : subset of elements in U\n",
    "            - U : universal set of elements\n",
    "    OUTPUT:\n",
    "            the set of elements that form the complement of A\n",
    "    \"\"\"\n",
    "    pass\n"
   ]
  },
  {
   "cell_type": "code",
   "execution_count": 8,
   "metadata": {
    "collapsed": true
   },
   "outputs": [],
   "source": [
    "def intersection(A, B):\n",
    "    \"\"\"\n",
    "    returns the intersection of sets A and B\n",
    "    INPUT: \n",
    "            - A : set of elements\n",
    "            - B : set of elements\n",
    "    OUTPUT:\n",
    "            the set of elements that form the intersection of A and B\n",
    "    \"\"\"\n",
    "    pass\n"
   ]
  },
  {
   "cell_type": "code",
   "execution_count": 9,
   "metadata": {
    "collapsed": true
   },
   "outputs": [],
   "source": [
    "def union(A, B):\n",
    "    \"\"\"\n",
    "    returns the union of sets A and B\n",
    "    INPUT: \n",
    "            - A : set of elements\n",
    "            - B : set of elements\n",
    "    OUTPUT:\n",
    "            the set of elements that form the union of A and B\n",
    "    \"\"\"\n",
    "    pass\n"
   ]
  },
  {
   "cell_type": "code",
   "execution_count": 10,
   "metadata": {
    "collapsed": true
   },
   "outputs": [],
   "source": [
    "def difference(A, B):\n",
    "    \"\"\"\n",
    "    returns the difference A-B of sets A and B\n",
    "    INPUT: \n",
    "            - A : set of elements\n",
    "            - B : set of elements\n",
    "    OUTPUT:\n",
    "            the set of elements that form the difference of A and B\n",
    "    \"\"\"\n",
    "    pass"
   ]
  },
  {
   "cell_type": "code",
   "execution_count": 13,
   "metadata": {},
   "outputs": [
    {
     "name": "stdout",
     "output_type": "stream",
     "text": [
      "Universal set = {0, 1, 2, 3, 4, 5, 6, 7, 8, 9, 10, -10, -9, -8, -7, -6, -5, -4, -3, -2, -1}\n",
      "A = {0, 1, 2, -1, -2}\n",
      "B = {0, 1, 2, 3, 4, 5}\n",
      "C = {5, 6, 7, 8, 9, 10, 11, 12, 13, 14, 15}\n",
      "\n",
      "\n",
      "The complement of A is None\n",
      "\n",
      "\n",
      "The complement of B is None\n",
      "\n",
      "\n",
      "The union of A and B is None\n",
      "\n",
      "\n",
      "The intersection of A and B is None\n",
      "\n",
      "\n",
      "The union of A and B is None\n",
      "\n",
      "\n",
      "The difference of A and B is None\n",
      "\n",
      "\n",
      "The difference of B and A is None\n",
      "\n",
      "\n",
      "The intersection of A, B, and C is None\n",
      "\n",
      "\n",
      "The complement of C is None\n",
      "This line should not print, as C is not a subset of U.\n"
     ]
    }
   ],
   "source": [
    "\"\"\"SAMPLE USAGE\"\"\"\n",
    "\n",
    "U = set([i for i in range(-10, 11)])\n",
    "A = set([j for j in range(-2, 3)])\n",
    "B = set([k for k in range(6)])\n",
    "C = set([x for x in range(5, 16)])\n",
    "print(\"Universal set =\", U)\n",
    "print(\"A =\", A)\n",
    "print(\"B =\", B)\n",
    "print(\"C =\", C)\n",
    "\n",
    "print(\"\\n\\nThe complement of A is\", complement(A, U))\n",
    "print(\"\\n\\nThe complement of B is\", complement(B, U))\n",
    "print(\"\\n\\nThe union of A and B is\", union(A, B))\n",
    "print(\"\\n\\nThe intersection of A and B is\", intersection(A, B))\n",
    "print(\"\\n\\nThe union of A and B is\", union(A, B))\n",
    "print(\"\\n\\nThe difference of A and B is\", difference(A, B))\n",
    "print(\"\\n\\nThe difference of B and A is\", difference(B, A))\n",
    "print(\"\\n\\nThe intersection of A, B, and C is\", intersection(intersection(A, B), C))\n",
    "\n",
    "print(\"\\n\\nThe complement of C is\", complement(C, U))\n",
    "print(\"This line should not print, as C is not a subset of U.\")"
   ]
  },
  {
   "cell_type": "markdown",
   "metadata": {},
   "source": [
    "## Problem 2:\n",
    "\n",
    "Complete the function `inverse(f)` which returns the inverse of function $f$, IF $f$ is a bijection.  If $f$ is not a bijection, then the function raises a `ValueError`.\n",
    "    \n",
    "    \n",
    "\n",
    " \n",
    "**Sample Output** \n",
    "\n",
    "`>> inverse({(1, 1), (2, 4), (3, 9), (4, 16), (5, 25)})`\n",
    "\n",
    "`{(1, 1), (4, 2), (9, 3), (16, 4), (25, 5)}`\n",
    "\n",
    "`>> inverse({(1, 1), (2, 4), (3, 9), (4, 16), (5, 25)})`\n",
    "\n",
    "`ValueError: Function is not bijective`\n",
    "\n"
   ]
  },
  {
   "cell_type": "code",
   "execution_count": 14,
   "metadata": {
    "collapsed": true
   },
   "outputs": [],
   "source": [
    "def inverse(f):\n",
    "    \"\"\"\n",
    "    returns the inverse of function f\n",
    "    raises ValueError if function is not bijective\n",
    "    INPUT:  \n",
    "        - f : a set of tuples representing all pairs (pre-image, image) of the function.\n",
    "    OUTPUT: \n",
    "        - a set of tuples representing all pairs (image, pre-image) of the inverse function.\n",
    "    \"\"\"\n",
    "    pass"
   ]
  },
  {
   "cell_type": "markdown",
   "metadata": {},
   "source": [
    "## Problem 3:\n",
    "\n",
    "\n",
    "\n",
    "Complete the function `all_onto_funcs(A, B)` which returns a list of all the onto functions from set A to set B that exist.\n",
    "    \n",
    " \n",
    "**Sample Output** \n",
    "\n",
    "`>> fs = all_onto_funcs({'a', 'b', 'c'}, {1, 2})`\n",
    "\n",
    "`>> for i in range(len(fs))`\n",
    "\n",
    "`...print(fs[i])`\n",
    "\n",
    "`...`\n",
    "\n",
    "`>>`\n",
    "\n",
    "`{(a, 1), (b, 1), (c, 2)}`\n",
    "\n",
    "`{(a, 1), (b, 2), (c, 1)}`\n",
    "\n",
    "`{(a, 1), (b, 2), (c, 2)}`\n",
    "\n",
    "`{(a, 2), (b, 1), (c, 2)}`\n",
    "\n",
    "`{(a, 2), (b, 2), (c, 1)}`\n",
    "\n",
    "`{(a, 2), (b, 1), (c, 1)}`\n",
    "\n",
    "\n",
    "`>> fs_2 = all_onto_funcs({1, 2}, {'a', 'b', 'c'})`\n",
    "\n",
    "`>> print(fs)`\n",
    "\n",
    "`[]`"
   ]
  },
  {
   "cell_type": "code",
   "execution_count": null,
   "metadata": {
    "collapsed": true
   },
   "outputs": [],
   "source": [
    "def all_onto_funcs(A, B):\n",
    "    \"\"\"\n",
    "    returns all onto functions from the set A to the set B\n",
    "    INPUT:  \n",
    "        - A : a set of elements\n",
    "        - B : a set of elements\n",
    "    OUTPUT: \n",
    "        a list of sets, where each set contains the elements of an onto function from A to B\n",
    "    \"\"\"\n",
    "    pass"
   ]
  }
 ],
 "metadata": {
  "kernelspec": {
   "display_name": "Python 3",
   "language": "python",
   "name": "python3"
  },
  "language_info": {
   "codemirror_mode": {
    "name": "ipython",
    "version": 3
   },
   "file_extension": ".py",
   "mimetype": "text/x-python",
   "name": "python",
   "nbconvert_exporter": "python",
   "pygments_lexer": "ipython3",
   "version": "3.6.2"
  }
 },
 "nbformat": 4,
 "nbformat_minor": 2
}
